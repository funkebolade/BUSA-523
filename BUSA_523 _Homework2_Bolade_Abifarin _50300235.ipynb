{
 "cells": [
  {
   "cell_type": "code",
   "execution_count": 1,
   "id": "d20190d6",
   "metadata": {},
   "outputs": [],
   "source": [
    "import random"
   ]
  },
  {
   "cell_type": "code",
   "execution_count": 8,
   "id": "5d5f414a",
   "metadata": {},
   "outputs": [
    {
     "name": "stdout",
     "output_type": "stream",
     "text": [
      "316\n"
     ]
    }
   ],
   "source": [
    "##QUESTION 1\n",
    "\n",
    "choices = ['Head', 'Tail']\n",
    "total_event = random.choices(choices, k=10000)\n",
    "#print (total_event)\n",
    "\n",
    "streak = 0\n",
    "j = 0\n",
    "while j in range(len(total_event) - 4):\n",
    "    if total_event[j] == total_event[j+1] == total_event[j+2] == total_event[j+3] == total_event[j+4]:\n",
    "        #print(c[j])\n",
    "        streak += 1\n",
    "        j += 5       \n",
    "    else:\n",
    "        j += 1\n",
    "print(streak)"
   ]
  },
  {
   "cell_type": "code",
   "execution_count": null,
   "id": "43b30049",
   "metadata": {},
   "outputs": [],
   "source": []
  },
  {
   "cell_type": "code",
   "execution_count": 6,
   "id": "32277ad7",
   "metadata": {},
   "outputs": [
    {
     "name": "stdout",
     "output_type": "stream",
     "text": [
      "Enter your number of swords.\n",
      "5\n",
      "Enter your number of diamonds.\n",
      "10\n",
      "Enter your number of gold coins.\n",
      "7\n",
      "Enter your number of ropes.\n",
      "16\n",
      "Enter your number of portion.\n",
      "2\n",
      "Inventory\n",
      "5 swords\n",
      "10 diamonds\n",
      "7 gold coins\n",
      "16 ropes\n",
      "2 portion\n"
     ]
    }
   ],
   "source": [
    "##QUESTION 2\n",
    "a = input(\"Enter your number of swords.\\n\")\n",
    "b = input(\"Enter your number of diamonds.\\n\")\n",
    "c= input(\"Enter your number of gold coins.\\n\")\n",
    "d = input(\"Enter your number of ropes.\\n\")\n",
    "e = input(\"Enter your number of portion.\\n\")\n",
    "\n",
    "video_dict = {a:'swords', b:'diamonds', c:'gold coins', d:'ropes', e:'portion'}\n",
    "print('Inventory')\n",
    "for x in video_dict:\n",
    "    print(x, video_dict[x])"
   ]
  },
  {
   "cell_type": "code",
   "execution_count": null,
   "id": "a6864e5e",
   "metadata": {},
   "outputs": [],
   "source": []
  },
  {
   "cell_type": "code",
   "execution_count": 3,
   "id": "fa13c5ac",
   "metadata": {},
   "outputs": [],
   "source": [
    "import numpy as np"
   ]
  },
  {
   "cell_type": "code",
   "execution_count": 4,
   "id": "e09913f5",
   "metadata": {},
   "outputs": [
    {
     "name": "stdout",
     "output_type": "stream",
     "text": [
      "331\n"
     ]
    }
   ],
   "source": [
    "##QUESTION 3\n",
    "choices = ['Head', 'Tail']\n",
    "total_event = np.array(random.choices(choices, k=10000))\n",
    "\n",
    "streak = 0\n",
    "j = 0\n",
    "while j in range(len(total_event) - 4):\n",
    "    if total_event[j] == total_event[j+1] == total_event[j+2] == total_event[j+3] == total_event[j+4]:\n",
    "        #print(c[j])\n",
    "        streak += 1\n",
    "        j += 5       \n",
    "    else:\n",
    "        j += 1\n",
    "print(streak)\n",
    "         "
   ]
  },
  {
   "cell_type": "code",
   "execution_count": null,
   "id": "8ae11db3",
   "metadata": {},
   "outputs": [],
   "source": []
  },
  {
   "cell_type": "code",
   "execution_count": 5,
   "id": "0d7ec21f",
   "metadata": {},
   "outputs": [
    {
     "name": "stdout",
     "output_type": "stream",
     "text": [
      "Player1's scores are [3, 3, 2, 2, 2, 1, 6, 1, 1, 2] with a total of 23.\n",
      "Player2's scores are [5, 3, 2, 5, 5, 5, 5, 5, 3, 2] with a total of 40.\n",
      "Player3's scores are [3, 5, 1, 2, 4, 3, 1, 3, 6, 6] with a total of 34.\n",
      "The winner is Player 2!\n"
     ]
    }
   ],
   "source": [
    "##QUESTION 4\n",
    "import random\n",
    "player_1 = []\n",
    "player_2 = []\n",
    "player_3 = []\n",
    "\n",
    "for a in range(0, 10):\n",
    "    player_1.append(random.randint(1,6))\n",
    "    player_2.append(random.randint(1,6))\n",
    "    player_3.append(random.randint(1,6))\n",
    "\n",
    "game_dict = {sum(player_1):'Player 1', sum(player_2):'Player 2', sum(player_3):'Player 3'}\n",
    "winner_score = max(game_dict)\n",
    "winner = game_dict[winner_score]\n",
    "\n",
    "print(f\"Player1's scores are {player_1} with a total of {sum(player_1)}.\")\n",
    "print(f\"Player2's scores are {player_2} with a total of {sum(player_2)}.\")\n",
    "print(f\"Player3's scores are {player_3} with a total of {sum(player_3)}.\")\n",
    "print(f\"The winner is {winner}!\")"
   ]
  }
 ],
 "metadata": {
  "kernelspec": {
   "display_name": "Python 3 (ipykernel)",
   "language": "python",
   "name": "python3"
  },
  "language_info": {
   "codemirror_mode": {
    "name": "ipython",
    "version": 3
   },
   "file_extension": ".py",
   "mimetype": "text/x-python",
   "name": "python",
   "nbconvert_exporter": "python",
   "pygments_lexer": "ipython3",
   "version": "3.9.7"
  }
 },
 "nbformat": 4,
 "nbformat_minor": 5
}
