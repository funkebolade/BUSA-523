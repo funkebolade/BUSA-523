{
 "cells": [
  {
   "cell_type": "markdown",
   "id": "12ca8661",
   "metadata": {},
   "source": [
    "### QUESTION 1"
   ]
  },
  {
   "cell_type": "code",
   "execution_count": 9,
   "id": "138d28e3",
   "metadata": {},
   "outputs": [
    {
     "name": "stdout",
     "output_type": "stream",
     "text": [
      "GOOD\n",
      "GOOD\n",
      "AVERAGE\n",
      "AVERAGE\n",
      "BAD\n"
     ]
    }
   ],
   "source": [
    "class student_records:\n",
    "    \n",
    "    def __init__(self, first_name, last_name, country, overall_grade, credits_completed, major):\n",
    "        self.first_name = first_name\n",
    "        self.last_name = last_name\n",
    "        self.country = country\n",
    "        self.overall_grade = overall_grade\n",
    "        self.credits_completed = credits_completed\n",
    "        self.major = major\n",
    "        \n",
    "    def check_grades(x):\n",
    "        if (x.overall_grade >= 3.0 and x.credits_completed >= 20):\n",
    "            print(\"GOOD\")\n",
    "        elif (x.overall_grade >= 2.5):\n",
    "            print(\"AVERAGE\")\n",
    "        elif x.credits_completed >= 10 and x.credits_completed <= 20:\n",
    "            print(\"AVERAGE\")\n",
    "        elif (x.overall_grade <= 2.5):\n",
    "            print(\"BAD\") \n",
    "\n",
    "student_records_1 = student_records(\"Timi\",\"Richard\",\"Nigeria\",4.0,27,\"Marketing\")\n",
    "student_records_2 = student_records(\"Bola\",\"Abifarin\",\"Nigeria\",3.6,30,\"Business Analytics\")\n",
    "student_records_3 = student_records(\"Paul\",\"Jhon\",\"USA\",2.5,15,\"Finance\")\n",
    "student_records_4 = student_records(\"Sarah\",\"Robert\",\"USA\",3.2,18,\"Business Analytics\")\n",
    "student_records_5 = student_records(\"Victor\",\"Yan\",\"Indian\",2.3,22,\"Accounting\")\n",
    "student_records_1.check_grades()\n",
    "student_records_2.check_grades()\n",
    "student_records_3.check_grades()\n",
    "student_records_4.check_grades()\n",
    "student_records_5.check_grades()"
   ]
  },
  {
   "cell_type": "markdown",
   "id": "00396e7f",
   "metadata": {},
   "source": [
    "### QUESTION 2"
   ]
  },
  {
   "cell_type": "code",
   "execution_count": 3,
   "id": "21aebba9",
   "metadata": {},
   "outputs": [],
   "source": [
    "def sep_numbers(list_of_num):\n",
    "    negative_num = []\n",
    "    positive_num = []\n",
    "    for x in list_of_num:\n",
    "        if x < 0:\n",
    "            negative_num.append(x)\n",
    "        elif x>0:\n",
    "            positive_num.append(x)\n",
    "            \n",
    "    print (f\"{negative_num}, {positive_num}\")\n",
    "    "
   ]
  },
  {
   "cell_type": "code",
   "execution_count": 2,
   "id": "60123704",
   "metadata": {},
   "outputs": [
    {
     "name": "stdout",
     "output_type": "stream",
     "text": [
      "[-6, -3, -2, -8], [5, 1, 9, 3]\n"
     ]
    }
   ],
   "source": [
    "sep_numbers([-6, 5,-3,-2,1,0,-8,9,3])"
   ]
  },
  {
   "cell_type": "markdown",
   "id": "8d30bbbc",
   "metadata": {},
   "source": [
    "### QUESTION 3"
   ]
  },
  {
   "cell_type": "code",
   "execution_count": 4,
   "id": "6f8e080b",
   "metadata": {},
   "outputs": [],
   "source": [
    "def player_output(final_score):\n",
    "    win_possible = []\n",
    "    for x in range(1,12):\n",
    "        for y in range(1,12):\n",
    "            if x+y > final_score and x+y < 22:\n",
    "                win_possible.append((x,y))\n",
    "                \n",
    "    ## The next line is to remove repitition             \n",
    "    for (p,q) in win_possible:\n",
    "        if (p,q) in win_possible and (q,p) in win_possible:\n",
    "            if p!= q:\n",
    "                win_possible.remove((q,p))\n",
    "            \n",
    "    print (win_possible)"
   ]
  },
  {
   "cell_type": "code",
   "execution_count": 7,
   "id": "f82a037d",
   "metadata": {},
   "outputs": [
    {
     "name": "stdout",
     "output_type": "stream",
     "text": [
      "[(8, 11), (9, 10), (9, 11), (10, 10), (10, 11)]\n"
     ]
    }
   ],
   "source": [
    "player_output(18)"
   ]
  },
  {
   "cell_type": "markdown",
   "id": "a26b2dae",
   "metadata": {},
   "source": [
    "### QUESTION 4"
   ]
  },
  {
   "cell_type": "code",
   "execution_count": 1,
   "id": "4c75debf",
   "metadata": {},
   "outputs": [],
   "source": [
    "def sep_numbers(list_of_num):        ## n\n",
    "    negative_num = []                ## 1\n",
    "    positive_num = []                ## 1\n",
    "    for x in list_of_num:            ## n ---- 4n\n",
    "        if x < 0:                    ## 1\n",
    "            negative_num.append(x)   ## 1\n",
    "        elif x>0:                    ## 1\n",
    "            positive_num.append(x)   ## 1\n",
    "            \n",
    "    print (f\"{negative_num}, {positive_num}\") ## 1\n",
    "    \n",
    "    \"\"\"The input has size n \n",
    "    Lines (2, 3) both have steps 1 + 1 = 2\n",
    "    \n",
    "    Line 4 has steps n\n",
    "    Lines (5, 6, 7, 8) have steps 1+1+1+1 = 4\n",
    "    Altogether, lines (4, 5, 6, 7, 8) has steps 4n\n",
    "    \n",
    "    Line 9 has step 1\n",
    "    \n",
    "    Total steps = 2 + 4n + 1 = 4n +3\n",
    "    O(4n+3) = O(n) , we drop the lower order and coefficients\n",
    "    \n",
    "    Therefore my Question 2 code has a O(n).\n",
    "    \"\"\""
   ]
  },
  {
   "cell_type": "code",
   "execution_count": null,
   "id": "b0ef82e4",
   "metadata": {},
   "outputs": [],
   "source": [
    "% timeit sep_numbers(list_of_num)\n",
    "% timeit for (list_of_num)"
   ]
  },
  {
   "cell_type": "code",
   "execution_count": 3,
   "id": "a9e62edb",
   "metadata": {},
   "outputs": [],
   "source": [
    "def player_output(final_score):                    # n\n",
    "    win_possible = []                              #1\n",
    "    for x in range(1,12):                          # n = 2n^2\n",
    "        for y in range(1,12):                      # n = 2n\n",
    "            if x+y > final_score and x+y < 22:     # 1\n",
    "                win_possible.append((x,y))         # 1\n",
    "                \n",
    "    ## The next line is to remove repitition             \n",
    "    for (p,q) in win_possible:                     # n = 2n\n",
    "        if (p,q) in win_possible and (q,p) in win_possible: # 1\n",
    "            if p!= q:                                       # 1\n",
    "                win_possible.remove((q,p))                  # 1\n",
    "            \n",
    "    print (win_possible)                                    #1\n",
    "    \n",
    "    \"\"\"The input has size n\n",
    "    Lines 2 has step 1\n",
    "    \n",
    "    Line 3 has step n\n",
    "    Line 4 has step n\n",
    "    Lines (5,6) both have steps 1 + 1 = 2\n",
    "    Lines (3, 4, 5, 6) have steps n(n(2)) = 2n^2\n",
    "\n",
    "    Line 7 has step n\n",
    "    Lines(8, 9, 10) have steps 1+1+1 = 3\n",
    "    Lines (7, 8, 9, 10) have steps 3n\n",
    "    \n",
    "    Line 11 has step 1\n",
    "    \n",
    "    Total steps = 1 + 2n^2 + 3n +1 = 2n^2 + 3n + 2\n",
    "    O(2n^2 + 3n + 2) = O(n2) , we drop the lower order and coefficients\n",
    "    \n",
    "    Therefore my Question 3 code has a O(n2).\n",
    "    \"\"\""
   ]
  },
  {
   "cell_type": "code",
   "execution_count": null,
   "id": "3a53f5d9",
   "metadata": {},
   "outputs": [],
   "source": []
  }
 ],
 "metadata": {
  "kernelspec": {
   "display_name": "Python 3 (ipykernel)",
   "language": "python",
   "name": "python3"
  },
  "language_info": {
   "codemirror_mode": {
    "name": "ipython",
    "version": 3
   },
   "file_extension": ".py",
   "mimetype": "text/x-python",
   "name": "python",
   "nbconvert_exporter": "python",
   "pygments_lexer": "ipython3",
   "version": "3.9.7"
  }
 },
 "nbformat": 4,
 "nbformat_minor": 5
}
