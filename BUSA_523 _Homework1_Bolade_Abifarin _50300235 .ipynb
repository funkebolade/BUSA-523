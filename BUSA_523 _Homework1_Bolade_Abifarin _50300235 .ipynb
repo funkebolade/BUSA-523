{
 "cells": [
  {
   "cell_type": "code",
   "execution_count": 1,
   "id": "510b85ef",
   "metadata": {},
   "outputs": [],
   "source": [
    "import random"
   ]
  },
  {
   "cell_type": "code",
   "execution_count": null,
   "id": "60e37980",
   "metadata": {},
   "outputs": [
    {
     "name": "stdout",
     "output_type": "stream",
     "text": [
      "Guess any number between 1 and 20\n",
      "17\n",
      "Guess another value. You have 4 trial.\n"
     ]
    }
   ],
   "source": [
    "## QUESTION 1\n",
    "\n",
    "import random \n",
    "print('Guess any number between 1 and 20')\n",
    "user_1 = int(input())\n",
    "comp_int = random.randint(1,20)\n",
    "count = 1\n",
    "\n",
    "while user_1 != comp_int and count < 5:\n",
    "    count+=1\n",
    "    print('Guess another value. You have {a} trial.' .format(a = 6 - count))\n",
    "    user_1 = int(input())\n",
    "    \n",
    "if count == 5:\n",
    "    print('You lose, no more chance')\n",
    "else:\n",
    "    print('You win!')"
   ]
  },
  {
   "cell_type": "code",
   "execution_count": null,
   "id": "81456b5b",
   "metadata": {},
   "outputs": [],
   "source": []
  },
  {
   "cell_type": "code",
   "execution_count": null,
   "id": "ea498139",
   "metadata": {},
   "outputs": [],
   "source": [
    "## QUESTION 2\n",
    "import random \n",
    "print('Guess any number between 1 and 20')\n",
    "user_1 = int(input())\n",
    "comp_int = random.randint(1,20)\n",
    "count = 1\n",
    "\n",
    "while user_1 != comp_int and count < 5:        \n",
    "    if user_1<comp_int:\n",
    "        count += 1\n",
    "        print('Guess a higher value. You have {a} trial.' .format(a = 6 - count))\n",
    "        user_1 = int(input())\n",
    "    elif user_1<comp_int:\n",
    "        print('Guess a lower value. You have {a} trial.' .format(a = 6 - count))\n",
    "        user_1 = int(input())\n",
    "        count += 1\n",
    "if count == 5:\n",
    "    print('You lose, no more chance')\n",
    "else:\n",
    "    print('You win!')"
   ]
  },
  {
   "cell_type": "code",
   "execution_count": null,
   "id": "65577d87",
   "metadata": {},
   "outputs": [],
   "source": []
  },
  {
   "cell_type": "code",
   "execution_count": null,
   "id": "6ad7e6d3",
   "metadata": {},
   "outputs": [
    {
     "name": "stdout",
     "output_type": "stream",
     "text": [
      "Rock,paper,Scissors,Lizard and Spock\n"
     ]
    }
   ],
   "source": [
    "## QUESTION 3\n",
    "\n",
    "import random\n",
    "print (\"Rock,paper,Scissors,Lizard and Spock\")\n",
    "user = input()\n",
    "number = random.randint(1,5)\n",
    "if number == 1:\n",
    "    computer = 'Spock'\n",
    "elif number == 2:\n",
    "    computer = 'scissors'\n",
    "elif number == 3:\n",
    "    computer = 'paper'\n",
    "elif number == 4:\n",
    "    computer = 'rock'\n",
    "elif number == 5: \n",
    "    computer = 'lizard'\n",
    "\n",
    "if user.lower() == computer:\n",
    "    print('Its a Tie play again')\n",
    "elif user.lower() == 'spock' and computer == 'scissors':\n",
    "    print ('you win!')\n",
    "elif user.lower() == 'scissors' and computer == 'paper':\n",
    "    print ('you win!')\n",
    "elif user.lower() == 'paper' and computer == 'rock':\n",
    "    print ('you win!') \n",
    "elif user.lower() == 'rock' and computer == 'lizard':\n",
    "    print ('you win!')\n",
    "elif user.lower() == 'lizard' and computer == 'rock':\n",
    "    print ('you win!')\n",
    "elif user.lower() == 'lizard' and computer == 'paper':\n",
    "    print ('you win!')\n",
    "elif user.lower() == 'spock' and computer == 'rock':\n",
    "    print ('you win!')\n",
    "elif user.lower() == 'scissors' and computer == 'lizard':\n",
    "    print ('you win!')\n",
    "elif user.lower() == 'paper' and computer == 'spock':\n",
    "    print ('you win!')\n",
    "elif user.lower() == 'rock' and computer == 'sissors':\n",
    "    print ('you win!')\n",
    "elif user.lower() == 'spock' and computer == 'lizard':\n",
    "    print ('you lose!')\n",
    "elif user.lower() == 'lizard' and computer == 'rock':\n",
    "    print ('you lose!')\n",
    "elif user.lower() == 'rock' and computer == 'paper':\n",
    "    print ('you lose!')\n",
    "elif user.lower() == 'paper' and computer == 'scissors':\n",
    "    print ('you lose!') \n",
    "elif user.lower() == 'scissors' and computer == 'spock':\n",
    "    print ('you lose!')\n",
    "elif user.lower() == 'rock' and computer == 'spock':\n",
    "    print ('you lose!')\n",
    "elif user.lower() == 'lizard' and computer == 'scissors':\n",
    "    print ('you lose!')\n",
    "elif user.lower() == 'paper' and computer == 'lizard':\n",
    "    print ('you lose!')\n",
    "elif user.lower() == 'spock' and computer == 'paper':\n",
    "    print ('you lose!')\n",
    "elif user.lower() == 'rock' and computer == 'scissors':\n",
    "    print ('you lose!')\n",
    "else:\n",
    "    print(\"Enter any of Rock, paper, Scissors, Lizard or Spock\")\n",
    "    "
   ]
  }
 ],
 "metadata": {
  "kernelspec": {
   "display_name": "Python 3 (ipykernel)",
   "language": "python",
   "name": "python3"
  },
  "language_info": {
   "codemirror_mode": {
    "name": "ipython",
    "version": 3
   },
   "file_extension": ".py",
   "mimetype": "text/x-python",
   "name": "python",
   "nbconvert_exporter": "python",
   "pygments_lexer": "ipython3",
   "version": "3.9.7"
  }
 },
 "nbformat": 4,
 "nbformat_minor": 5
}
